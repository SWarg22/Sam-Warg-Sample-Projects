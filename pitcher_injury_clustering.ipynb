{
 "cells": [
  {
   "cell_type": "code",
   "execution_count": 41,
   "metadata": {},
   "outputs": [],
   "source": [
    "import pandas as pd\n",
    "import numpy as np\n",
    "from pybaseball import pitching_stats\n",
    "from pybaseball import playerid_reverse_lookup\n",
    "\n",
    "import requests\n",
    "from bs4 import BeautifulSoup\n"
   ]
  },
  {
   "cell_type": "code",
   "execution_count": 148,
   "metadata": {},
   "outputs": [],
   "source": [
    "pd.set_option('display.max_rows', 100)\n",
    "pd.set_option('display.max_columns', 500)"
   ]
  },
  {
   "attachments": {},
   "cell_type": "markdown",
   "metadata": {},
   "source": [
    "## Pitching Data"
   ]
  },
  {
   "attachments": {},
   "cell_type": "markdown",
   "metadata": {},
   "source": [
    "#### Load Data"
   ]
  },
  {
   "cell_type": "code",
   "execution_count": 42,
   "metadata": {},
   "outputs": [],
   "source": [
    "# Read in pitching data from pybaseball\n",
    "data = pitching_stats(2010,2024,qual=50,ind=1)"
   ]
  },
  {
   "cell_type": "code",
   "execution_count": 43,
   "metadata": {},
   "outputs": [],
   "source": [
    "# Replace FLA abbreviation with MIA for the Marlins\n",
    "data['Team'].replace('FLA', 'MIA', inplace=True)"
   ]
  },
  {
   "cell_type": "code",
   "execution_count": 44,
   "metadata": {},
   "outputs": [
    {
     "data": {
      "text/html": [
       "<div>\n",
       "<style scoped>\n",
       "    .dataframe tbody tr th:only-of-type {\n",
       "        vertical-align: middle;\n",
       "    }\n",
       "\n",
       "    .dataframe tbody tr th {\n",
       "        vertical-align: top;\n",
       "    }\n",
       "\n",
       "    .dataframe thead th {\n",
       "        text-align: right;\n",
       "    }\n",
       "</style>\n",
       "<table border=\"1\" class=\"dataframe\">\n",
       "  <thead>\n",
       "    <tr style=\"text-align: right;\">\n",
       "      <th></th>\n",
       "      <th>IDfg</th>\n",
       "      <th>Season</th>\n",
       "      <th>Name</th>\n",
       "      <th>Team</th>\n",
       "      <th>Age</th>\n",
       "      <th>W</th>\n",
       "      <th>L</th>\n",
       "      <th>WAR</th>\n",
       "      <th>ERA</th>\n",
       "      <th>G</th>\n",
       "      <th>...</th>\n",
       "      <th>Pit+ FC</th>\n",
       "      <th>Stf+ FS</th>\n",
       "      <th>Loc+ FS</th>\n",
       "      <th>Pit+ FS</th>\n",
       "      <th>Stuff+</th>\n",
       "      <th>Location+</th>\n",
       "      <th>Pitching+</th>\n",
       "      <th>Stf+ FO</th>\n",
       "      <th>Loc+ FO</th>\n",
       "      <th>Pit+ FO</th>\n",
       "    </tr>\n",
       "  </thead>\n",
       "  <tbody>\n",
       "    <tr>\n",
       "      <th>3771</th>\n",
       "      <td>19756</td>\n",
       "      <td>2019</td>\n",
       "      <td>Yoshihisa Hirano</td>\n",
       "      <td>ARI</td>\n",
       "      <td>35</td>\n",
       "      <td>5</td>\n",
       "      <td>5</td>\n",
       "      <td>0.5</td>\n",
       "      <td>4.75</td>\n",
       "      <td>62</td>\n",
       "      <td>...</td>\n",
       "      <td>NaN</td>\n",
       "      <td>NaN</td>\n",
       "      <td>NaN</td>\n",
       "      <td>NaN</td>\n",
       "      <td>NaN</td>\n",
       "      <td>NaN</td>\n",
       "      <td>NaN</td>\n",
       "      <td>NaN</td>\n",
       "      <td>NaN</td>\n",
       "      <td>NaN</td>\n",
       "    </tr>\n",
       "    <tr>\n",
       "      <th>431</th>\n",
       "      <td>19756</td>\n",
       "      <td>2018</td>\n",
       "      <td>Yoshihisa Hirano</td>\n",
       "      <td>ARI</td>\n",
       "      <td>34</td>\n",
       "      <td>4</td>\n",
       "      <td>3</td>\n",
       "      <td>0.2</td>\n",
       "      <td>2.44</td>\n",
       "      <td>75</td>\n",
       "      <td>...</td>\n",
       "      <td>NaN</td>\n",
       "      <td>NaN</td>\n",
       "      <td>NaN</td>\n",
       "      <td>NaN</td>\n",
       "      <td>NaN</td>\n",
       "      <td>NaN</td>\n",
       "      <td>NaN</td>\n",
       "      <td>NaN</td>\n",
       "      <td>NaN</td>\n",
       "      <td>NaN</td>\n",
       "    </tr>\n",
       "  </tbody>\n",
       "</table>\n",
       "<p>2 rows × 393 columns</p>\n",
       "</div>"
      ],
      "text/plain": [
       "       IDfg  Season              Name Team  Age  W  L  WAR   ERA   G  ...  \\\n",
       "3771  19756    2019  Yoshihisa Hirano  ARI   35  5  5  0.5  4.75  62  ...   \n",
       "431   19756    2018  Yoshihisa Hirano  ARI   34  4  3  0.2  2.44  75  ...   \n",
       "\n",
       "      Pit+ FC  Stf+ FS  Loc+ FS  Pit+ FS  Stuff+  Location+  Pitching+  \\\n",
       "3771      NaN      NaN      NaN      NaN     NaN        NaN        NaN   \n",
       "431       NaN      NaN      NaN      NaN     NaN        NaN        NaN   \n",
       "\n",
       "      Stf+ FO  Loc+ FO  Pit+ FO  \n",
       "3771      NaN      NaN      NaN  \n",
       "431       NaN      NaN      NaN  \n",
       "\n",
       "[2 rows x 393 columns]"
      ]
     },
     "execution_count": 44,
     "metadata": {},
     "output_type": "execute_result"
    }
   ],
   "source": [
    "data[data['Name'] == 'Yoshihisa Hirano']"
   ]
  },
  {
   "cell_type": "code",
   "execution_count": 45,
   "metadata": {},
   "outputs": [],
   "source": [
    "# Subset data to only necessary columns \n",
    "sub = data[['IDfg', 'Season', 'Name', 'Team', 'Age', 'G', 'GS', 'CG', 'IP', 'TBF', 'Pitches', \n",
    "             'FA% (sc)', 'FT% (sc)', 'FC% (sc)', 'FS% (sc)', 'FO% (sc)', 'SI% (sc)', 'SL% (sc)', 'CU% (sc)', 'KC% (sc)', 'EP% (sc)', 'CH% (sc)', 'SC% (sc)', 'KN% (sc)', 'UN% (sc)',\n",
    "             'vFA (sc)', 'vFT (sc)', 'vFC (sc)', 'vFS (sc)', 'vFO (sc)', 'vSI (sc)', 'vSL (sc)', 'vCU (sc)', 'vKC (sc)', 'vEP (sc)', 'vCH (sc)', 'vSC (sc)', 'vKN (sc)',\n",
    "             'FA-X (sc)', 'FT-X (sc)', 'FC-X (sc)', 'FS-X (sc)', 'FO-X (sc)', 'SI-X (sc)', 'SL-X (sc)', 'CU-X (sc)', 'KC-X (sc)', 'EP-X (sc)', 'CH-X (sc)', 'SC-X (sc)', 'KN-X (sc)',\n",
    "             'FA-Z (sc)', 'FT-Z (sc)', 'FC-Z (sc)', 'FS-Z (sc)', 'FO-Z (sc)', 'SI-Z (sc)', 'SL-Z (sc)', 'CU-Z (sc)', 'KC-Z (sc)', 'EP-Z (sc)', 'CH-Z (sc)', 'SC-Z (sc)', 'KN-Z (sc)',\n",
    "             'Pace']]"
   ]
  },
  {
   "cell_type": "code",
   "execution_count": 46,
   "metadata": {},
   "outputs": [],
   "source": [
    "# Get list of Fangraphs IDs\n",
    "fg_ids = data['IDfg'].tolist()"
   ]
  },
  {
   "cell_type": "code",
   "execution_count": 47,
   "metadata": {},
   "outputs": [],
   "source": [
    "# Get ID lookup table\n",
    "id_table = playerid_reverse_lookup(fg_ids, key_type='fangraphs')"
   ]
  },
  {
   "cell_type": "code",
   "execution_count": 48,
   "metadata": {},
   "outputs": [
    {
     "name": "stderr",
     "output_type": "stream",
     "text": [
      "/Users/swarg22/opt/anaconda3/lib/python3.8/site-packages/pandas/core/frame.py:4441: SettingWithCopyWarning: \n",
      "A value is trying to be set on a copy of a slice from a DataFrame\n",
      "\n",
      "See the caveats in the documentation: https://pandas.pydata.org/pandas-docs/stable/user_guide/indexing.html#returning-a-view-versus-a-copy\n",
      "  return super().rename(\n"
     ]
    }
   ],
   "source": [
    "# Merge Retrosheet key to dataset\n",
    "sub.rename(columns={'IDfg': 'key_fangraphs'}, inplace=True)\n",
    "sub = sub.merge(id_table[['key_retro', 'key_fangraphs']], on=['key_fangraphs'], how='left')"
   ]
  },
  {
   "attachments": {},
   "cell_type": "markdown",
   "metadata": {},
   "source": [
    "#### Create Lag Variables"
   ]
  },
  {
   "cell_type": "code",
   "execution_count": 49,
   "metadata": {},
   "outputs": [],
   "source": [
    "sub = sub.sort_values(['Name', 'Age'])"
   ]
  },
  {
   "cell_type": "code",
   "execution_count": 50,
   "metadata": {},
   "outputs": [],
   "source": [
    "# Lag total number of pitches for each pitcher over the previouse 1, 2, and 3 seasons\n",
    "sub['pitches_1y'] = sub.groupby('Name')['Pitches'].apply(lambda x: x.rolling(1, min_periods=1, closed='left').sum())\n",
    "sub['pitches_2y'] = sub.groupby('Name')['Pitches'].apply(lambda x: x.rolling(2, min_periods=1, closed='left').sum())\n",
    "sub['pitches_3y'] = sub.groupby('Name')['Pitches'].apply(lambda x: x.rolling(3, min_periods=1, closed='left').sum())"
   ]
  },
  {
   "cell_type": "code",
   "execution_count": 51,
   "metadata": {},
   "outputs": [],
   "source": [
    "# Lag total number of innings for each pitcher over the previouse 1, 2, and 3 seasons\n",
    "sub['innings_1y'] = sub.groupby('Name')['IP'].apply(lambda x: x.rolling(1, min_periods=1, closed='left').sum())\n",
    "sub['innings_2y'] = sub.groupby('Name')['IP'].apply(lambda x: x.rolling(2, min_periods=1, closed='left').sum())\n",
    "sub['innings_3y'] = sub.groupby('Name')['IP'].apply(lambda x: x.rolling(3, min_periods=1, closed='left').sum())"
   ]
  },
  {
   "attachments": {},
   "cell_type": "markdown",
   "metadata": {},
   "source": [
    "#### Clean Data"
   ]
  },
  {
   "cell_type": "code",
   "execution_count": 52,
   "metadata": {},
   "outputs": [],
   "source": [
    "# Read in Retrosheet bio data\n",
    "url = 'https://raw.githubusercontent.com/chadwickbureau/retrosheet/refs/heads/master/reference/biofile.csv'\n",
    "bio = pd.read_csv(url)"
   ]
  },
  {
   "cell_type": "code",
   "execution_count": 53,
   "metadata": {},
   "outputs": [],
   "source": [
    "# Merge MLB debut date into dataset\n",
    "bio.rename(columns={'PLAYERID': 'key_retro'}, inplace=True)\n",
    "debuted = sub.merge(bio[['key_retro', 'PLAY.DEBUT']], on=['key_retro'], how='left')"
   ]
  },
  {
   "cell_type": "code",
   "execution_count": 54,
   "metadata": {},
   "outputs": [],
   "source": [
    "# Filter data to only players that debuted during the 2010 season or later\n",
    "debuted['PLAY.DEBUT'] = pd.to_datetime(debuted['PLAY.DEBUT'])\n",
    "debuted = debuted[debuted['PLAY.DEBUT'] > '2010-01-01']"
   ]
  },
  {
   "cell_type": "code",
   "execution_count": 55,
   "metadata": {},
   "outputs": [],
   "source": [
    "# Fill NAs with 0\n",
    "debuted.fillna(0, inplace=True)"
   ]
  },
  {
   "attachments": {},
   "cell_type": "markdown",
   "metadata": {},
   "source": [
    "## Pitcher Injuries"
   ]
  },
  {
   "attachments": {},
   "cell_type": "markdown",
   "metadata": {},
   "source": [
    "#### Load Data"
   ]
  },
  {
   "cell_type": "code",
   "execution_count": 56,
   "metadata": {},
   "outputs": [],
   "source": [
    "# Read in pitcher injury data from Pro Sports Transactions\n",
    "\n",
    "# Base URL\n",
    "url_base = \"https://www.prosportstransactions.com/baseball/Search/SearchResults.php?Player=&Team=&BeginDate=2010-04-04&EndDate=2024-09-27&DLChkBx=yes&submit=Search&start={}\"\n",
    "\n",
    "# Initialize an empty list to store dataframes\n",
    "dfs = []\n",
    "\n",
    "npages=901\n",
    "\n",
    "# Iterate through the page numbers\n",
    "for i in range(0, npages*25+1, 25): \n",
    "    url = url_base.format(i)\n",
    "    \n",
    "    # Request the page\n",
    "    response = requests.get(url)\n",
    "    soup = BeautifulSoup(response.content, 'html.parser')\n",
    "    \n",
    "    # Find the table using XPath equivalent in BeautifulSoup\n",
    "    table = soup.select_one('div:nth-of-type(4) > table:nth-of-type(1)')\n",
    "    \n",
    "    if table:\n",
    "        df = pd.read_html(str(table))[0]  # Read the table into a DataFrame\n",
    "        df.columns = df.iloc[0]\n",
    "        df.drop(df.index[0], inplace=True)\n",
    "        dfs.append(df)\n",
    "\n",
    "# Concatenate all DataFrames\n",
    "testing = pd.concat(dfs, ignore_index=True)\n",
    "\n",
    "# Clean the DataFrame\n",
    "testing['Acquired'] = testing['Acquired'].str[2:]  # Remove the first 2 characters\n",
    "testing['Relinquished'] = testing['Relinquished'].str[2:]  # Remove the first 2 characters"
   ]
  },
  {
   "attachments": {},
   "cell_type": "markdown",
   "metadata": {},
   "source": [
    "#### Clean Data"
   ]
  },
  {
   "cell_type": "code",
   "execution_count": 82,
   "metadata": {},
   "outputs": [],
   "source": [
    "# Filter data to only elbow injuries\n",
    "elbow_injuries = testing[testing['Notes'].str.contains('elbow', case=False)]\n",
    "elbow_injuries = elbow_injuries[~elbow_injuries['Relinquished'].isna()]\n",
    "elbow_injuries.drop('Acquired',axis=1,inplace=True)"
   ]
  },
  {
   "cell_type": "code",
   "execution_count": 83,
   "metadata": {},
   "outputs": [],
   "source": [
    "# Clean up parentheses in Relinquished column \n",
    "elbow_injuries['Relinquished'] = elbow_injuries['Relinquished'].str.replace(r'\\s*\\(.*?\\)', '', regex=True)"
   ]
  },
  {
   "cell_type": "code",
   "execution_count": 84,
   "metadata": {},
   "outputs": [],
   "source": [
    "# Split the names by ' / ', returning NaN if there's no split\n",
    "split_names = elbow_injuries['Relinquished'].str.split(' / ', expand=True)\n",
    "\n",
    "# Create two DataFrames: one for the left side (or original names) and one for the right side\n",
    "left_names = elbow_injuries.copy()\n",
    "left_names['Name'] = split_names[0]\n",
    "\n",
    "right_names = elbow_injuries.copy()\n",
    "right_names['Name'] = split_names[1]\n",
    "\n",
    "# Concatenate the two DataFrames, and drop rows with NaN in the 'Names' column\n",
    "elbow_injuries = pd.concat([left_names, right_names.dropna()], ignore_index=True)"
   ]
  },
  {
   "cell_type": "code",
   "execution_count": 85,
   "metadata": {},
   "outputs": [],
   "source": [
    "elbow_injuries.drop('Relinquished',axis=1,inplace=True)"
   ]
  },
  {
   "cell_type": "code",
   "execution_count": 86,
   "metadata": {},
   "outputs": [],
   "source": [
    "elbow_injuries['Date'] = pd.to_datetime(elbow_injuries['Date'])\n",
    "elbow_injuries['Season'] = elbow_injuries['Date'].dt.year"
   ]
  },
  {
   "attachments": {},
   "cell_type": "markdown",
   "metadata": {},
   "source": [
    "I now have 2 Datasets:"
   ]
  },
  {
   "attachments": {},
   "cell_type": "markdown",
   "metadata": {},
   "source": [
    "Elbow Injuries"
   ]
  },
  {
   "cell_type": "code",
   "execution_count": 118,
   "metadata": {},
   "outputs": [
    {
     "data": {
      "text/html": [
       "<div>\n",
       "<style scoped>\n",
       "    .dataframe tbody tr th:only-of-type {\n",
       "        vertical-align: middle;\n",
       "    }\n",
       "\n",
       "    .dataframe tbody tr th {\n",
       "        vertical-align: top;\n",
       "    }\n",
       "\n",
       "    .dataframe thead th {\n",
       "        text-align: right;\n",
       "    }\n",
       "</style>\n",
       "<table border=\"1\" class=\"dataframe\">\n",
       "  <thead>\n",
       "    <tr style=\"text-align: right;\">\n",
       "      <th></th>\n",
       "      <th>Date</th>\n",
       "      <th>Team</th>\n",
       "      <th>Notes</th>\n",
       "      <th>Name</th>\n",
       "      <th>Season</th>\n",
       "    </tr>\n",
       "  </thead>\n",
       "  <tbody>\n",
       "    <tr>\n",
       "      <th>0</th>\n",
       "      <td>2010-04-04</td>\n",
       "      <td>Dodgers</td>\n",
       "      <td>placed on 15-day DL with left elbow injury / l...</td>\n",
       "      <td>Hung-Chih Kuo</td>\n",
       "      <td>2010</td>\n",
       "    </tr>\n",
       "    <tr>\n",
       "      <th>1</th>\n",
       "      <td>2010-04-04</td>\n",
       "      <td>Nationals</td>\n",
       "      <td>placed on 15-day DL with strained right elbow</td>\n",
       "      <td>Chris Coste</td>\n",
       "      <td>2010</td>\n",
       "    </tr>\n",
       "    <tr>\n",
       "      <th>2</th>\n",
       "      <td>2010-04-04</td>\n",
       "      <td>Pirates</td>\n",
       "      <td>placed on 15-day DL with strained right elbow</td>\n",
       "      <td>Joel Hanrahan</td>\n",
       "      <td>2010</td>\n",
       "    </tr>\n",
       "    <tr>\n",
       "      <th>3</th>\n",
       "      <td>2010-04-04</td>\n",
       "      <td>Rays</td>\n",
       "      <td>placed on 15-day DL with strained right elbow</td>\n",
       "      <td>Matt Joyce</td>\n",
       "      <td>2010</td>\n",
       "    </tr>\n",
       "    <tr>\n",
       "      <th>4</th>\n",
       "      <td>2010-04-08</td>\n",
       "      <td>Athletics</td>\n",
       "      <td>transferred to 60-day DL recovering from ligam...</td>\n",
       "      <td>Josh Outman</td>\n",
       "      <td>2010</td>\n",
       "    </tr>\n",
       "  </tbody>\n",
       "</table>\n",
       "</div>"
      ],
      "text/plain": [
       "0       Date       Team                                              Notes  \\\n",
       "0 2010-04-04    Dodgers  placed on 15-day DL with left elbow injury / l...   \n",
       "1 2010-04-04  Nationals      placed on 15-day DL with strained right elbow   \n",
       "2 2010-04-04    Pirates      placed on 15-day DL with strained right elbow   \n",
       "3 2010-04-04       Rays      placed on 15-day DL with strained right elbow   \n",
       "4 2010-04-08  Athletics  transferred to 60-day DL recovering from ligam...   \n",
       "\n",
       "0           Name  Season  \n",
       "0  Hung-Chih Kuo    2010  \n",
       "1    Chris Coste    2010  \n",
       "2  Joel Hanrahan    2010  \n",
       "3     Matt Joyce    2010  \n",
       "4    Josh Outman    2010  "
      ]
     },
     "execution_count": 118,
     "metadata": {},
     "output_type": "execute_result"
    }
   ],
   "source": [
    "elbow_injuries.head()"
   ]
  },
  {
   "attachments": {},
   "cell_type": "markdown",
   "metadata": {},
   "source": [
    "Main Clustering Dataset"
   ]
  },
  {
   "cell_type": "code",
   "execution_count": 119,
   "metadata": {},
   "outputs": [
    {
     "data": {
      "text/html": [
       "<div>\n",
       "<style scoped>\n",
       "    .dataframe tbody tr th:only-of-type {\n",
       "        vertical-align: middle;\n",
       "    }\n",
       "\n",
       "    .dataframe tbody tr th {\n",
       "        vertical-align: top;\n",
       "    }\n",
       "\n",
       "    .dataframe thead th {\n",
       "        text-align: right;\n",
       "    }\n",
       "</style>\n",
       "<table border=\"1\" class=\"dataframe\">\n",
       "  <thead>\n",
       "    <tr style=\"text-align: right;\">\n",
       "      <th></th>\n",
       "      <th>key_fangraphs</th>\n",
       "      <th>Season</th>\n",
       "      <th>Name</th>\n",
       "      <th>Team</th>\n",
       "      <th>Age</th>\n",
       "      <th>G</th>\n",
       "      <th>GS</th>\n",
       "      <th>CG</th>\n",
       "      <th>IP</th>\n",
       "      <th>TBF</th>\n",
       "      <th>...</th>\n",
       "      <th>Pace</th>\n",
       "      <th>key_retro</th>\n",
       "      <th>pitches_1y</th>\n",
       "      <th>pitches_2y</th>\n",
       "      <th>pitches_3y</th>\n",
       "      <th>innings_1y</th>\n",
       "      <th>innings_2y</th>\n",
       "      <th>innings_3y</th>\n",
       "      <th>PLAY.DEBUT</th>\n",
       "      <th>Best_Match</th>\n",
       "    </tr>\n",
       "  </thead>\n",
       "  <tbody>\n",
       "    <tr>\n",
       "      <th>6</th>\n",
       "      <td>11467</td>\n",
       "      <td>2017</td>\n",
       "      <td>A.J. Cole</td>\n",
       "      <td>WSN</td>\n",
       "      <td>25</td>\n",
       "      <td>11</td>\n",
       "      <td>8</td>\n",
       "      <td>0</td>\n",
       "      <td>52.0</td>\n",
       "      <td>229</td>\n",
       "      <td>...</td>\n",
       "      <td>23.4</td>\n",
       "      <td>colea002</td>\n",
       "      <td>0.0</td>\n",
       "      <td>0.0</td>\n",
       "      <td>0.0</td>\n",
       "      <td>0.0</td>\n",
       "      <td>0.0</td>\n",
       "      <td>0.0</td>\n",
       "      <td>2015-04-28</td>\n",
       "      <td>None</td>\n",
       "    </tr>\n",
       "    <tr>\n",
       "      <th>7</th>\n",
       "      <td>11132</td>\n",
       "      <td>2012</td>\n",
       "      <td>A.J. Griffin</td>\n",
       "      <td>OAK</td>\n",
       "      <td>24</td>\n",
       "      <td>15</td>\n",
       "      <td>15</td>\n",
       "      <td>0</td>\n",
       "      <td>82.1</td>\n",
       "      <td>336</td>\n",
       "      <td>...</td>\n",
       "      <td>17.8</td>\n",
       "      <td>grifa002</td>\n",
       "      <td>0.0</td>\n",
       "      <td>0.0</td>\n",
       "      <td>0.0</td>\n",
       "      <td>0.0</td>\n",
       "      <td>0.0</td>\n",
       "      <td>0.0</td>\n",
       "      <td>2012-06-24</td>\n",
       "      <td>A.J. Griffin</td>\n",
       "    </tr>\n",
       "    <tr>\n",
       "      <th>8</th>\n",
       "      <td>11132</td>\n",
       "      <td>2013</td>\n",
       "      <td>A.J. Griffin</td>\n",
       "      <td>OAK</td>\n",
       "      <td>25</td>\n",
       "      <td>32</td>\n",
       "      <td>32</td>\n",
       "      <td>1</td>\n",
       "      <td>200.0</td>\n",
       "      <td>823</td>\n",
       "      <td>...</td>\n",
       "      <td>18.0</td>\n",
       "      <td>grifa002</td>\n",
       "      <td>1421.0</td>\n",
       "      <td>1421.0</td>\n",
       "      <td>1421.0</td>\n",
       "      <td>82.1</td>\n",
       "      <td>82.1</td>\n",
       "      <td>82.1</td>\n",
       "      <td>2012-06-24</td>\n",
       "      <td>A.J. Griffin</td>\n",
       "    </tr>\n",
       "    <tr>\n",
       "      <th>9</th>\n",
       "      <td>11132</td>\n",
       "      <td>2016</td>\n",
       "      <td>A.J. Griffin</td>\n",
       "      <td>TEX</td>\n",
       "      <td>28</td>\n",
       "      <td>23</td>\n",
       "      <td>23</td>\n",
       "      <td>0</td>\n",
       "      <td>119.0</td>\n",
       "      <td>509</td>\n",
       "      <td>...</td>\n",
       "      <td>19.9</td>\n",
       "      <td>grifa002</td>\n",
       "      <td>3212.0</td>\n",
       "      <td>4633.0</td>\n",
       "      <td>4633.0</td>\n",
       "      <td>200.0</td>\n",
       "      <td>282.1</td>\n",
       "      <td>282.1</td>\n",
       "      <td>2012-06-24</td>\n",
       "      <td>A.J. Griffin</td>\n",
       "    </tr>\n",
       "    <tr>\n",
       "      <th>10</th>\n",
       "      <td>11132</td>\n",
       "      <td>2017</td>\n",
       "      <td>A.J. Griffin</td>\n",
       "      <td>TEX</td>\n",
       "      <td>29</td>\n",
       "      <td>18</td>\n",
       "      <td>15</td>\n",
       "      <td>1</td>\n",
       "      <td>77.1</td>\n",
       "      <td>338</td>\n",
       "      <td>...</td>\n",
       "      <td>19.4</td>\n",
       "      <td>grifa002</td>\n",
       "      <td>2063.0</td>\n",
       "      <td>5275.0</td>\n",
       "      <td>6696.0</td>\n",
       "      <td>119.0</td>\n",
       "      <td>319.0</td>\n",
       "      <td>401.1</td>\n",
       "      <td>2012-06-24</td>\n",
       "      <td>A.J. Griffin</td>\n",
       "    </tr>\n",
       "  </tbody>\n",
       "</table>\n",
       "<p>5 rows × 74 columns</p>\n",
       "</div>"
      ],
      "text/plain": [
       "    key_fangraphs  Season          Name Team  Age   G  GS  CG     IP  TBF  \\\n",
       "6           11467    2017     A.J. Cole  WSN   25  11   8   0   52.0  229   \n",
       "7           11132    2012  A.J. Griffin  OAK   24  15  15   0   82.1  336   \n",
       "8           11132    2013  A.J. Griffin  OAK   25  32  32   1  200.0  823   \n",
       "9           11132    2016  A.J. Griffin  TEX   28  23  23   0  119.0  509   \n",
       "10          11132    2017  A.J. Griffin  TEX   29  18  15   1   77.1  338   \n",
       "\n",
       "    ...  Pace  key_retro  pitches_1y  pitches_2y  pitches_3y  innings_1y  \\\n",
       "6   ...  23.4   colea002         0.0         0.0         0.0         0.0   \n",
       "7   ...  17.8   grifa002         0.0         0.0         0.0         0.0   \n",
       "8   ...  18.0   grifa002      1421.0      1421.0      1421.0        82.1   \n",
       "9   ...  19.9   grifa002      3212.0      4633.0      4633.0       200.0   \n",
       "10  ...  19.4   grifa002      2063.0      5275.0      6696.0       119.0   \n",
       "\n",
       "    innings_2y  innings_3y  PLAY.DEBUT    Best_Match  \n",
       "6          0.0         0.0  2015-04-28          None  \n",
       "7          0.0         0.0  2012-06-24  A.J. Griffin  \n",
       "8         82.1        82.1  2012-06-24  A.J. Griffin  \n",
       "9        282.1       282.1  2012-06-24  A.J. Griffin  \n",
       "10       319.0       401.1  2012-06-24  A.J. Griffin  \n",
       "\n",
       "[5 rows x 74 columns]"
      ]
     },
     "execution_count": 119,
     "metadata": {},
     "output_type": "execute_result"
    }
   ],
   "source": [
    "debuted.head()"
   ]
  },
  {
   "attachments": {},
   "cell_type": "markdown",
   "metadata": {},
   "source": [
    "What do I want to do?"
   ]
  },
  {
   "attachments": {},
   "cell_type": "markdown",
   "metadata": {},
   "source": [
    "I want to cluster the main pitcher data. I can do that right now."
   ]
  },
  {
   "attachments": {},
   "cell_type": "markdown",
   "metadata": {},
   "source": [
    "However, I need to, after clustering, see which pitcher seasons are near an elbow injury"
   ]
  },
  {
   "attachments": {},
   "cell_type": "markdown",
   "metadata": {},
   "source": [
    "How can I do this?"
   ]
  },
  {
   "attachments": {},
   "cell_type": "markdown",
   "metadata": {},
   "source": [
    "I can:\n",
    "1. Cluster the data now and try to overlay the injuries by changing colors of dots\n",
    "2. Create a binary indicator column in main data that signifies an injury, cluster, and analyze distribution of this column amongst clusters"
   ]
  },
  {
   "cell_type": "code",
   "execution_count": 149,
   "metadata": {},
   "outputs": [],
   "source": [
    "##### WORK IN PROGRESS #####\n",
    "\n",
    "#pip install pandas fuzzywuzzy python-Levenshtein\n",
    "from fuzzywuzzy import process\n",
    "\n",
    "# Fuzzy match and create a mapping\n",
    "matched_names = []\n",
    "for name in debuted['Name']:\n",
    "    match = process.extractOne(name, elbow_injuries['Name'])\n",
    "    matched_names.append(match[0] if match[1] >= 80 else None)\n",
    "debuted['Matched_Name'] = matched_names\n",
    "\n",
    "# Merge dataframes on matched names\n",
    "merged = pd.merge(debuted, elbow_injuries, left_on='Matched_Name', right_on='Name', suffixes=('', '_injury'), how='left')\n",
    "\n",
    "# Create injury columns using vectorized operations\n",
    "debuted['injury_curr'] = ((merged['Season_injury'] == merged['Season']).astype(int))\n",
    "debuted['injury_1y'] = ((merged['Season_injury'] == merged['Season'] - 1).astype(int))\n",
    "debuted['injury_2y'] = ((merged['Season_injury'] == merged['Season'] - 2).astype(int))\n",
    "\n",
    "# Clean up the DataFrame\n",
    "debuted.drop(columns=['Matched_Name'], inplace=True)"
   ]
  }
 ],
 "metadata": {
  "kernelspec": {
   "display_name": "base",
   "language": "python",
   "name": "python3"
  },
  "language_info": {
   "codemirror_mode": {
    "name": "ipython",
    "version": 3
   },
   "file_extension": ".py",
   "mimetype": "text/x-python",
   "name": "python",
   "nbconvert_exporter": "python",
   "pygments_lexer": "ipython3",
   "version": "3.8.8"
  },
  "orig_nbformat": 4
 },
 "nbformat": 4,
 "nbformat_minor": 2
}
